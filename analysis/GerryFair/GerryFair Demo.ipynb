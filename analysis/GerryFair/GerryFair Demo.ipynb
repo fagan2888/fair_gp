{
 "cells": [
  {
   "cell_type": "markdown",
   "metadata": {},
   "source": [
    "# GerryFair Tutorial"
   ]
  },
  {
   "cell_type": "markdown",
   "metadata": {},
   "source": [
    "## Required Data Format\n",
    "\n",
    "In order to train and audit for bias, we require three dataframes. The first two are the standard `X` and `Y`, which are the samples and their labels respectively. The third required dataframe is the list of protected attributes. This contains the values of the protected attributes for each row in the sample. These will be the attributes for which we will enforce fairness constraints (coupled with a function class over these attributes).\n",
    "\n",
    "#### Cleaning Data\n",
    "If your data is not in that format, it needs to be cleaned. We provide a method, `clean_data` in *clean.py*, you can use to clean your data into the accepted format.\n",
    "\n",
    "The variable `dataset` should hold the file path to the file containing the dataset. The variable `attributes` should hold the file path to the file containing protected attributes. This should simply be one row where a column is 2 if it is the label, 1 if it is protected, and 0 otherwise. You should set `centered` to be `True` if you want the data to be centered. We provide several examples of correctly formatted files in the `dataset` folder."
   ]
  },
  {
   "cell_type": "code",
   "execution_count": null,
   "metadata": {},
   "outputs": [],
   "source": [
    "import matplotlib \n",
    "matplotlib.use('TKAgg')\n",
    "import gerryfair\n",
    "# dataset = \"./dataset/communities.csv\"\n",
    "dataset = \"./dataset/adult.csv\"\n",
    "attributes = \"./dataset/adult_protected.csv\"\n",
    "centered = True\n",
    "X, X_prime, y = gerryfair.clean.clean_dataset(dataset, attributes, centered)"
   ]
  },
  {
   "cell_type": "code",
   "execution_count": null,
   "metadata": {},
   "outputs": [],
   "source": [
    "X.shape"
   ]
  },
  {
   "cell_type": "code",
   "execution_count": null,
   "metadata": {},
   "outputs": [],
   "source": [
    "X_prime.shape"
   ]
  },
  {
   "cell_type": "markdown",
   "metadata": {},
   "source": [
    "## Using tools to train a model\n",
    "\n",
    "Now, we can use the `Model` class in order to train a new model. When instatiating the object, you may provide any options that you will want when training the classifier. If you wish to change the options, you may use the `set_options` method. Both are shown below."
   ]
  },
  {
   "cell_type": "code",
   "execution_count": 2,
   "metadata": {},
   "outputs": [],
   "source": [
    "C = 15\n",
    "printflag = True\n",
    "gamma = .01\n",
    "fair_model = gerryfair.model.Model(C=C, printflag=printflag, gamma=gamma, fairness_def='FP')\n",
    "max_iters = 30\n",
    "fair_model.set_options(max_iters=max_iters)"
   ]
  },
  {
   "cell_type": "markdown",
   "metadata": {},
   "source": [
    "Now that we are happy with the options, we can use the `train` method to train a classifier using the Fictitious Play algorithm described in [the original paper](https://arxiv.org/abs/1711.05144v3). We will need our three dataframes from earlier. We also return the errors and fairness violations from each iteration of training.\n",
    "\n",
    "We will first split `X` and `y` into a training and a testing set."
   ]
  },
  {
   "cell_type": "code",
   "execution_count": 3,
   "metadata": {
    "scrolled": true
   },
   "outputs": [
    {
     "name": "stdout",
     "output_type": "stream",
     "text": [
      "iteration: 1\n",
      "most accurate classifier error: 0.086, most accurate class unfairness: 0.013255813953488373, violated group size: 0.424\n",
      "iteration: 2\n",
      "error: 0.391, fairness violation: 0.006627906976744178, violated group size: 0.424\n",
      "iteration: 3\n",
      "error: 0.49, fairness violation: 0.004418604651162848, violated group size: 0.424\n",
      "iteration: 4\n",
      "error: 0.5395, fairness violation: 0.003313953488372089, violated group size: 0.424\n",
      "iteration: 5\n",
      "error: 0.5692, fairness violation: 0.002651162790697652, violated group size: 0.424\n",
      "iteration: 6\n",
      "error: 0.5833333333333334, fairness violation: 0.004143410852713174, violated group size: 0.36\n",
      "iteration: 7\n",
      "error: 0.5617142857142858, fairness violation: 0.009607973421927006, violated group size: 0.316\n",
      "iteration: 8\n",
      "error: 0.5255, fairness violation: 0.01725000000000001, violated group size: 0.406\n",
      "iteration: 9\n",
      "error: 0.4773333333333333, fairness violation: 0.016927002583979323, violated group size: 0.278\n",
      "iteration: 10\n",
      "error: 0.443, fairness violation: 0.01611744186046514, violated group size: 0.412\n",
      "iteration: 11\n",
      "error: 0.41745454545454536, fairness violation: 0.014897463002114213, violated group size: 0.42\n",
      "iteration: 12\n",
      "error: 0.397, fairness violation: 0.013874031007751949, violated group size: 0.424\n",
      "iteration: 13\n",
      "error: 0.3813846153846154, fairness violation: 0.013142665474060854, violated group size: 0.266\n",
      "iteration: 14\n",
      "error: 0.369, fairness violation: 0.012553571428571443, violated group size: 0.43\n",
      "iteration: 15\n",
      "error: 0.3585333333333333, fairness violation: 0.01145891472868217, violated group size: 0.264\n",
      "iteration: 16\n",
      "error: 0.349375, fairness violation: 0.01078015988372094, violated group size: 0.426\n",
      "iteration: 17\n",
      "error: 0.34117647058823525, fairness violation: 0.010235294117647056, violated group size: 0.258\n",
      "iteration: 18\n",
      "error: 0.33388888888888885, fairness violation: 0.009736111111111122, violated group size: 0.43\n",
      "iteration: 19\n",
      "error: 0.3273684210526316, fairness violation: 0.009289473684210538, violated group size: 0.258\n",
      "iteration: 20\n",
      "error: 0.3216, fairness violation: 0.008974418604651162, violated group size: 0.252\n",
      "iteration: 21\n",
      "error: 0.3163809523809524, fairness violation: 0.008485603543743114, violated group size: 0.25\n",
      "iteration: 22\n",
      "error: 0.3116363636363636, fairness violation: 0.008207188160676554, violated group size: 0.436\n",
      "iteration: 23\n",
      "error: 0.3072173913043479, fairness violation: 0.00814307381193125, violated group size: 0.438\n",
      "iteration: 24\n",
      "error: 0.3030833333333333, fairness violation: 0.008010658914728701, violated group size: 0.442\n",
      "iteration: 25\n",
      "error: 0.2992, fairness violation: 0.007881860465116276, violated group size: 0.444\n",
      "iteration: 26\n",
      "error: 0.29538461538461536, fairness violation: 0.007533094812164581, violated group size: 0.446\n",
      "iteration: 27\n",
      "error: 0.2917037037037037, fairness violation: 0.007294142980189498, violated group size: 0.45\n",
      "iteration: 28\n",
      "error: 0.288, fairness violation: 0.007064784053156161, violated group size: 0.452\n",
      "iteration: 29\n",
      "error: 0.28427586206896555, fairness violation: 0.006911788291900565, violated group size: 0.236\n"
     ]
    }
   ],
   "source": [
    "# Train Set\n",
    "train_size = 500\n",
    "\n",
    "X_train = X.iloc[:train_size]\n",
    "X_prime_train = X_prime.iloc[:train_size]\n",
    "y_train = y.iloc[:train_size]\n",
    "\n",
    "# Test Set\n",
    "X_test = X.iloc[train_size:].reset_index(drop=True)\n",
    "X_prime_test = X_prime.iloc[train_size:].reset_index(drop=True)\n",
    "y_test = y.iloc[train_size:].reset_index(drop=True)\n",
    "\n",
    "# Train the model\n",
    "[errors, fp_difference] = fair_model.train(X_train, X_prime_train, y_train)"
   ]
  },
  {
   "cell_type": "markdown",
   "metadata": {},
   "source": [
    "We can now use our model to make out of sample predictions. This can be done using the `predict` method of the object."
   ]
  },
  {
   "cell_type": "code",
   "execution_count": 4,
   "metadata": {},
   "outputs": [],
   "source": [
    "predictions = fair_model.predict(X_test)"
   ]
  },
  {
   "cell_type": "markdown",
   "metadata": {},
   "source": [
    "## Using tools on evaluate a generic model\n",
    "\n",
    "Once we have a model, whether it is fictitious play model or any generic model, we can use our tools to evaluate the fairness in several ways.\n",
    "\n",
    "#### Auditing Predictions\n",
    "\n",
    "You can audit for subgroup fairness of your predictions using the functionality within the `Auditor` object. These predictions can come from any arbitrary model. Auditing the predictions returns the group that failed the audit and gamma unfairness of the predictions on that group. We will be using our predictions from the previous part."
   ]
  },
  {
   "cell_type": "code",
   "execution_count": 5,
   "metadata": {},
   "outputs": [
    {
     "data": {
      "text/plain": [
       "0.013353005900515526"
      ]
     },
     "execution_count": 5,
     "metadata": {},
     "output_type": "execute_result"
    }
   ],
   "source": [
    "auditor = gerryfair.model.Auditor(X_prime_test, y_test, 'FP')\n",
    "[violated_group, fairness_violation] = auditor.audit(predictions)\n",
    "fairness_violation"
   ]
  },
  {
   "cell_type": "markdown",
   "metadata": {},
   "source": [
    "#### Plotting errors\n",
    "You can also plot the errors of the model during training using the `plot_single` function in *fairness_plots.py*. Please note that these errors are returned by our fictitious play algorithm, so this is specifically for analyzing the effectiveness of our model."
   ]
  },
  {
   "cell_type": "code",
   "execution_count": 6,
   "metadata": {},
   "outputs": [
    {
     "data": {
      "image/png": "[encoded data removed]",
      "text/plain": [
       "<matplotlib.figure.Figure at 0x7f1af861d5f8>"
      ]
     },
     "metadata": {},
     "output_type": "display_data"
    },
    {
     "data": {
      "image/png": "[encoded data removed]",
      "text/plain": [
       "<matplotlib.figure.Figure at 0x7f1b203dd390>"
      ]
     },
     "metadata": {},
     "output_type": "display_data"
    }
   ],
   "source": [
    "%matplotlib inline\n",
    "\n",
    "gerryfair.fairness_plots.plot_single(errors, fp_difference, max_iters, gamma, C)"
   ]
  },
  {
   "cell_type": "code",
   "execution_count": null,
   "metadata": {},
   "outputs": [],
   "source": []
  }
 ],
 "metadata": {
  "kernelspec": {
   "display_name": "Python 3",
   "language": "python",
   "name": "python3"
  },
  "language_info": {
   "codemirror_mode": {
    "name": "ipython",
    "version": 3
   },
   "file_extension": ".py",
   "mimetype": "text/x-python",
   "name": "python",
   "nbconvert_exporter": "python",
   "pygments_lexer": "ipython3",
   "version": "3.7.3"
  }
 },
 "nbformat": 4,
 "nbformat_minor": 2
}
