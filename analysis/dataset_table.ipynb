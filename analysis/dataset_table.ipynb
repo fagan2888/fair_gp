{
 "cells": [
  {
   "cell_type": "code",
   "execution_count": 9,
   "metadata": {},
   "outputs": [],
   "source": [
    "datasets = [\n",
    " \"GerryFair/dataset/communities.csv\",\n",
    " \"GerryFair/dataset/adult.csv\",\n",
    " \"GerryFair/dataset/lawschool.csv\",\n",
    " \"GerryFair/dataset/student.csv\",\n",
    "]\n",
    "attributeses = [\n",
    " \"GerryFair/dataset/communities_protected.csv\",\n",
    " \"GerryFair/dataset/adult_protected.csv\",\n",
    " \"GerryFair/dataset/lawschool_protected.csv\",\n",
    " \"GerryFair/dataset/student_protected.csv\",\n",
    "]\n",
    "dataset_nice= {\n",
    "    'communities':'Communities',\n",
    "    'adult':'Adult',\n",
    "    'lawschool':'Lawschool',\n",
    "    'Student':'student'\n",
    "}"
   ]
  },
  {
   "cell_type": "code",
   "execution_count": 14,
   "metadata": {},
   "outputs": [
    {
     "name": "stdout",
     "output_type": "stream",
     "text": [
      "communities\n",
      "label feature: ['ViolentCrimesPerPop']\n",
      "sensitive features: ['racepctblack', 'racePctWhite', 'racePctAsian', 'racePctHisp', 'whitePerCap', 'blackPerCap', 'indianPerCap', 'AsianPerCap', 'OtherPerCap', 'HispPerCap', 'PctSpeakEnglOnly', 'PctNotSpeakEnglWell', 'PctForeignBorn', 'RacialMatchCommPol', 'PctPolicWhite', 'PctPolicBlack', 'PctPolicHisp', 'PctPolicAsian']\n",
      "there are 18 sensitive features including derivative features\n",
      "\n",
      "\n",
      " communities\n",
      "\tsamples: 1994\n",
      "\tfeatures: 122\n",
      "\tsensitive features: 18\n",
      "\tgroups: 1563 \n",
      "\n",
      "\n",
      "adult\n",
      "label feature: ['income']\n",
      "sensitive features: ['age', 'race', 'sex']\n",
      "there are 7 sensitive features including derivative features\n",
      "\n",
      "\n",
      " adult\n",
      "\tsamples: 2020\n",
      "\tfeatures: 98\n",
      "\tsensitive features: 7\n",
      "\tgroups: 78 \n",
      "\n",
      "\n",
      "lawschool\n",
      "label feature: ['bar1']\n",
      "sensitive features: ['race', 'fam_inc', 'age', 'gender']\n",
      "there are 3 sensitive features including derivative features\n",
      "\n",
      "\n",
      " lawschool\n",
      "\tsamples: 1823\n",
      "\tfeatures: 17\n",
      "\tsensitive features: 3\n",
      "\tgroups: 47 \n",
      "\n",
      "\n",
      "student\n",
      "label feature: ['G3']\n",
      "sensitive features: ['sex', 'age', 'romantic', 'Dalc', 'Walc']\n",
      "there are 5 sensitive features including derivative features\n",
      "\n",
      "\n",
      " student\n",
      "\tsamples: 395\n",
      "\tfeatures: 43\n",
      "\tsensitive features: 5\n",
      "\tgroups: 22 \n",
      "\n",
      "\n"
     ]
    }
   ],
   "source": [
    "from clean import clean_dataset\n",
    "\n",
    "for dataset, attributes in zip(datasets,attributeses):\n",
    "    dn = dataset.split('/')[-1].split('.')[0]\n",
    "    print(dn)\n",
    "    X, X_prime, y = clean_dataset(dataset, attributes, centered=True)\n",
    "    X_unique = X_prime.drop_duplicates()\n",
    "    n_unique=0\n",
    "    for col in X_unique.columns:\n",
    "        n_unique += X_unique[col].nunique()\n",
    "        \n",
    "    samples = len(X)\n",
    "    features = X.shape[1]\n",
    "    sens_features = X_prime.shape[1]\n",
    "\n",
    "    print('\\n\\n',dn)\n",
    "    print('\\tsamples:',samples)\n",
    "    print('\\tfeatures:',features)\n",
    "    print('\\tsensitive features:',sens_features)\n",
    "    print('\\tgroups:',n_unique,'\\n\\n')"
   ]
  }
 ],
 "metadata": {
  "kernelspec": {
   "display_name": "Python 3",
   "language": "python",
   "name": "python3"
  },
  "language_info": {
   "codemirror_mode": {
    "name": "ipython",
    "version": 3
   },
   "file_extension": ".py",
   "mimetype": "text/x-python",
   "name": "python",
   "nbconvert_exporter": "python",
   "pygments_lexer": "ipython3",
   "version": "3.7.3"
  }
 },
 "nbformat": 4,
 "nbformat_minor": 2
}
